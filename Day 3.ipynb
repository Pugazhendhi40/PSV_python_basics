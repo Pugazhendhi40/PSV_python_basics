{
 "cells": [
  {
   "cell_type": "code",
   "execution_count": 2,
   "metadata": {},
   "outputs": [
    {
     "name": "stdout",
     "output_type": "stream",
     "text": [
      "The Value of Count is 2\n",
      "INCREMENTED FOR LOOP\n",
      "0\n",
      "1\n",
      "2\n",
      "3\n",
      "4\n",
      "\n",
      " DECREMENTED FOR LOOP\n",
      "4\n",
      "3\n",
      "2\n",
      "1\n",
      "0\n"
     ]
    }
   ],
   "source": [
    "count=0\n",
    "count+=1\n",
    "count=count+1\n",
    "print('The Value of Count is',count)\n",
    "print(\"INCREMENTED FOR LOOP\")\n",
    "for i in range(0, 5):\n",
    "    print(i)\n",
    "print(\"\\n DECREMENTED FOR LOOP\")\n",
    "for i in range(4, -1, -1):\n",
    "   print(i)"
   ]
  },
  {
   "cell_type": "code",
   "execution_count": 4,
   "metadata": {},
   "outputs": [
    {
     "name": "stdout",
     "output_type": "stream",
     "text": [
      "m\n",
      "a\n",
      "the end\n"
     ]
    }
   ],
   "source": [
    "for val in \"manikandan\":\n",
    "    if val==\"n\":\n",
    "        break\n",
    "    print(val)\n",
    "    \n",
    "print(\"the end\")\n",
    "\n"
   ]
  },
  {
   "cell_type": "code",
   "execution_count": 8,
   "metadata": {},
   "outputs": [
    {
     "name": "stdout",
     "output_type": "stream",
     "text": [
      "5\n"
     ]
    }
   ],
   "source": [
    "a=0\n",
    "b=5\n",
    "x=(a&b)|(a&a)|(a|b)\n",
    "print(x)"
   ]
  },
  {
   "cell_type": "code",
   "execution_count": 13,
   "metadata": {},
   "outputs": [
    {
     "name": "stdout",
     "output_type": "stream",
     "text": [
      "True\n"
     ]
    }
   ],
   "source": [
    "a=0\n",
    "b=6\n",
    "x=(a&b)|(a&a|a&b)\n",
    "y=not(x)\n",
    "print(y)\n"
   ]
  },
  {
   "cell_type": "code",
   "execution_count": 14,
   "metadata": {},
   "outputs": [
    {
     "data": {
      "text/plain": [
       "1"
      ]
     },
     "execution_count": 14,
     "metadata": {},
     "output_type": "execute_result"
    }
   ],
   "source": [
    "1%2"
   ]
  },
  {
   "cell_type": "code",
   "execution_count": 21,
   "metadata": {},
   "outputs": [
    {
     "name": "stdout",
     "output_type": "stream",
     "text": [
      "0\n",
      "5\n",
      "10\n",
      "15\n",
      "20\n",
      "25\n",
      "30\n",
      "35\n",
      "40\n",
      "45\n",
      "50\n",
      "55\n",
      "60\n",
      "65\n",
      "70\n",
      "75\n",
      "80\n",
      "85\n",
      "90\n",
      "95\n"
     ]
    }
   ],
   "source": [
    "for i in range(0,100,5):\n",
    "    print(i)"
   ]
  },
  {
   "cell_type": "code",
   "execution_count": 22,
   "metadata": {},
   "outputs": [
    {
     "name": "stdout",
     "output_type": "stream",
     "text": [
      "Enter a number25\n",
      "odd\n"
     ]
    }
   ],
   "source": [
    "a =int(input(\"Enter a number\"))\n",
    "  \n",
    "if(a % 2 == 0):\n",
    "    print(\"even\")\n",
    "else:\n",
    "    print(\"odd\")"
   ]
  },
  {
   "cell_type": "code",
   "execution_count": 23,
   "metadata": {},
   "outputs": [
    {
     "name": "stdout",
     "output_type": "stream",
     "text": [
      "list\n",
      "list\n",
      "['list', 'is']\n",
      "['list', 'is', 'nice']\n",
      "['my', 'list', 'is']\n",
      "['my', 'list', 'is', 'nice']\n",
      "3\n",
      "[3, 4]\n"
     ]
    }
   ],
   "source": [
    "a = 'is'\n",
    "b = 'nice'\n",
    "my_list = ['my', 'list', a, b]\n",
    "my_list2 = [[4,5,6,7], [3,4,5,6]]\n",
    "print(my_list[1])\n",
    "print(my_list[-3])\n",
    "print(my_list[1:3])\n",
    "print(my_list[1:])\n",
    "print(my_list[:3])\n",
    "print(my_list[:])\n",
    "print(my_list2[1][0])\n",
    "print(my_list2[1][:2])"
   ]
  },
  {
   "cell_type": "code",
   "execution_count": 24,
   "metadata": {},
   "outputs": [
    {
     "name": "stdout",
     "output_type": "stream",
     "text": [
      "132 is not prime \n"
     ]
    }
   ],
   "source": [
    "a = 132\n",
    "i = 2\n",
    "  \n",
    "if a>1:\n",
    "    \n",
    "    while(i * i<a):\n",
    "        \n",
    "        if a % i == 0:\n",
    "            print(a, \"is not prime \")\n",
    "            break\n",
    "              \n",
    "        else:\n",
    "            print(a, \"is prime \")\n",
    "        i += 1\n",
    "else:\n",
    "    print(a, \"is not prime \")"
   ]
  },
  {
   "cell_type": "code",
   "execution_count": 27,
   "metadata": {},
   "outputs": [
    {
     "name": "stdout",
     "output_type": "stream",
     "text": [
      "Emil Refsnes\n",
      "Tobias Refsnes\n",
      "Linus Refsnes\n"
     ]
    }
   ],
   "source": [
    "def my_function(fname):\n",
    "    print(fname + \" Refsnes\")\n",
    "my_function(\"Emil\")\n",
    "my_function(\"Tobias\")\n",
    "my_function(\"Linus\")"
   ]
  },
  {
   "cell_type": "code",
   "execution_count": 30,
   "metadata": {},
   "outputs": [
    {
     "name": "stdout",
     "output_type": "stream",
     "text": [
      "Addition of 20 and 5 is: 25\n",
      "Subtraction of 20 and 5 is: 15\n",
      "Multipilcation of 20 and 5 is: 100\n",
      "Division of 20 and 5 is: 4.0\n",
      "Modulus of 20 and 5 is: 0\n",
      "Floor Division of 20 and 5 is: 4\n"
     ]
    }
   ],
   "source": [
    "def function(x,y):\n",
    "    print(\"Addition of\",x,\"and\",y,\"is:\",x+y)\n",
    "    print(\"Subtraction of\",x,\"and\",y,\"is:\",x-y)\n",
    "    print(\"Multipilcation of\",x,\"and\",y,\"is:\",x*y)\n",
    "    print(\"Division of\",x,\"and\",y,\"is:\",x/y)\n",
    "    print(\"Modulus of\",x,\"and\",y,\"is:\",x%y)\n",
    "    print(\"Floor Division of\",x,\"and\",y,\"is:\",x//y)\n",
    "function(20,5)"
   ]
  },
  {
   "cell_type": "code",
   "execution_count": 31,
   "metadata": {},
   "outputs": [
    {
     "name": "stdout",
     "output_type": "stream",
     "text": [
      "The youngest child is Linus\n"
     ]
    }
   ],
   "source": [
    "def my_function(child3, child2, child1):\n",
    "    print(\"The youngest child is \" + child3)\n",
    "my_function(child1 = \"Emil\", child2 = \"Tobias\", child3 = \"Linus\")"
   ]
  },
  {
   "cell_type": "code",
   "execution_count": 32,
   "metadata": {},
   "outputs": [
    {
     "name": "stdout",
     "output_type": "stream",
     "text": [
      "False\n"
     ]
    }
   ],
   "source": [
    "a = 2\n",
    "\n",
    "b = 4\n",
    "\n",
    "print(a == b)"
   ]
  },
  {
   "cell_type": "code",
   "execution_count": 39,
   "metadata": {},
   "outputs": [
    {
     "name": "stdout",
     "output_type": "stream",
     "text": [
      "Initial string\n",
      "hello,i'm a Greek\n"
     ]
    }
   ],
   "source": [
    "str1='hello,i\\'m a Greek'\n",
    "print(\"Initial string\")\n",
    "print(str1)\n"
   ]
  },
  {
   "cell_type": "code",
   "execution_count": 40,
   "metadata": {},
   "outputs": [
    {
     "name": "stdout",
     "output_type": "stream",
     "text": [
      "enter a number25\n",
      "enter b number558\n",
      "False\n",
      "True\n",
      "True\n",
      "False\n",
      "True\n",
      "False\n"
     ]
    }
   ],
   "source": [
    "a = int(input(\"enter a number\"))\n",
    "\n",
    "b = int(input(\"enter b number\"))\n",
    "\n",
    "print(a==b)\n",
    "print(a!=b)\n",
    "print(a<b)\n",
    "print(a>b)\n",
    "print(a<=b)\n",
    "print(a>=b)\n"
   ]
  },
  {
   "cell_type": "code",
   "execution_count": 51,
   "metadata": {},
   "outputs": [
    {
     "name": "stdout",
     "output_type": "stream",
     "text": [
      "[['Geeks', 'for'], ['Lokesh']]\n"
     ]
    }
   ],
   "source": [
    "list=[['Geeks','for'],['Lokesh']]\n",
    "print(list[0:2])"
   ]
  },
  {
   "cell_type": "code",
   "execution_count": 58,
   "metadata": {},
   "outputs": [
    {
     "name": "stdout",
     "output_type": "stream",
     "text": [
      "appu\n"
     ]
    }
   ],
   "source": [
    "a='appu'\n",
    "b=str(a)\n",
    "print(b)"
   ]
  },
  {
   "cell_type": "code",
   "execution_count": 64,
   "metadata": {},
   "outputs": [
    {
     "name": "stdout",
     "output_type": "stream",
     "text": [
      "25\n"
     ]
    }
   ],
   "source": [
    "x=lambda a,b:a+b\n",
    "print(x(10,15))"
   ]
  },
  {
   "cell_type": "code",
   "execution_count": 72,
   "metadata": {},
   "outputs": [
    {
     "name": "stdout",
     "output_type": "stream",
     "text": [
      "Kavin <class '__main__.Human'>\n",
      "Kavin <class 'str'>\n",
      "34 <class 'int'>\n",
      "Male <class 'str'>\n",
      "hai I am  Kavin\n",
      "None\n"
     ]
    }
   ],
   "source": [
    "class Human():\n",
    "    def __init__(self, name, age, sex):\n",
    "        self.name = name\n",
    "        self.age = age\n",
    "        self.sex = sex\n",
    "    def __str__(self):\n",
    "        return self.name\n",
    "    def greet(self):\n",
    "        print('hai I am ', self.name)\n",
    "h1 = Human(name='Kavin', age=34, sex='Male')\n",
    "print(h1, type(h1))\n",
    "print(h1.name, type(h1.name))\n",
    "print(h1.age, type(h1.age))\n",
    "print(h1.sex, type(h1.sex))\n",
    "print(h1.greet())"
   ]
  },
  {
   "cell_type": "code",
   "execution_count": null,
   "metadata": {},
   "outputs": [
    {
     "name": "stdout",
     "output_type": "stream",
     "text": [
      "Enter your name:pugazh\n"
     ]
    }
   ],
   "source": [
    "class Student:\n",
    "    def __init__(self):\n",
    "        self.name=\"\"\n",
    "        self.roll_no=\"\"\n",
    "        self.mark1=\"\"\n",
    "        self.mark2=\"\"\n",
    "        self.mark3=\"\"\n",
    "        self.total=\"\"\n",
    "        self.avg=\"\"\n",
    "    def __str__(self):\n",
    "        return self.name\n",
    "    def get_details(self):\n",
    "        self.name=input(\"Enter your name:\")\n",
    "        self.roll_no=int(input(\"Enter your roll no:\"))\n",
    "        self.mark1=int(input(\"Enter your sub1 mark:\"))\n",
    "        self.mark2=int(input(\"Enter your sub2 mark:\")) \n",
    "        self.mark3=int(input(\"Enter your sub3 mark:\"))\n",
    "    def calc(self):\n",
    "        self.total=self.mark1+self.mark2+self.mark3\n",
    "        self.avg=self.total/3\n",
    "    def display(self):\n",
    "        print(\"your total mark is\",self.total)\n",
    "        print(\"your average is\",self.avg)\n",
    "S=Student()\n",
    "S.get_details()\n",
    "S.calc()\n",
    "S.display()"
   ]
  },
  {
   "cell_type": "code",
   "execution_count": null,
   "metadata": {},
   "outputs": [],
   "source": []
  },
  {
   "cell_type": "code",
   "execution_count": null,
   "metadata": {},
   "outputs": [],
   "source": []
  }
 ],
 "metadata": {
  "kernelspec": {
   "display_name": "Python 3",
   "language": "python",
   "name": "python3"
  },
  "language_info": {
   "codemirror_mode": {
    "name": "ipython",
    "version": 3
   },
   "file_extension": ".py",
   "mimetype": "text/x-python",
   "name": "python",
   "nbconvert_exporter": "python",
   "pygments_lexer": "ipython3",
   "version": "3.8.3"
  }
 },
 "nbformat": 4,
 "nbformat_minor": 4
}
